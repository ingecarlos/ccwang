{
 "cells": [
  {
   "cell_type": "markdown",
   "id": "ddd92f84-eda9-4201-ba96-23d443ec3c0d",
   "metadata": {},
   "source": [
    "Import libraries"
   ]
  },
  {
   "cell_type": "code",
   "execution_count": 1,
   "id": "a5f36758-5491-4aa8-8582-800fbba6f3b5",
   "metadata": {},
   "outputs": [],
   "source": [
    "import numpy as np\n",
    "import pandas as pd\n",
    "import matplotlib.pyplot as plt"
   ]
  },
  {
   "cell_type": "markdown",
   "id": "5c2ea4c4-017e-4e7d-82af-2c9ad163b78e",
   "metadata": {},
   "source": [
    "Upload gradient data"
   ]
  },
  {
   "cell_type": "code",
   "execution_count": 2,
   "id": "e8ece930-ac69-4be3-b0d9-ee4836509afb",
   "metadata": {},
   "outputs": [],
   "source": [
    "data = pd.read_csv('files/transient_exp_data.csv')\n",
    "#print(data.shape)\n",
    "\n",
    "#print(data.head())\n",
    "#print(data)"
   ]
  },
  {
   "cell_type": "markdown",
   "id": "7b21a8cc-86e4-4de7-a488-1a69c7f4aebf",
   "metadata": {},
   "source": [
    "# Asignar a variables\n",
    "X es la variable independiente\n",
    "\n",
    "Y es la variable dependiente"
   ]
  },
  {
   "cell_type": "code",
   "execution_count": 3,
   "id": "29452c39-ba56-4add-abc2-8f696a2c49a4",
   "metadata": {},
   "outputs": [],
   "source": [
    "#Row names\n",
    "\n",
    "x_label = 'Time(s)'\n",
    "y_label = 'R3C3'\n",
    "y_labels = data.columns[1:]\n",
    "\n",
    "X = data[x_label].values\n",
    "Y = data[y_label].values"
   ]
  },
  {
   "cell_type": "code",
   "execution_count": 4,
   "id": "709cf02d-6ee1-4d76-ba43-763a825208c3",
   "metadata": {},
   "outputs": [
    {
     "name": "stdout",
     "output_type": "stream",
     "text": [
      "[[0.0e+00 1.0e+00]\n",
      " [1.0e+02 1.0e+00]\n",
      " [2.0e+02 1.0e+00]\n",
      " [3.0e+02 1.0e+00]\n",
      " [4.0e+02 1.0e+00]\n",
      " [5.0e+02 1.0e+00]\n",
      " [6.0e+02 1.0e+00]\n",
      " [7.0e+02 1.0e+00]\n",
      " [8.0e+02 1.0e+00]\n",
      " [9.0e+02 1.0e+00]\n",
      " [1.0e+03 1.0e+00]\n",
      " [1.1e+03 1.0e+00]\n",
      " [1.2e+03 1.0e+00]\n",
      " [1.3e+03 1.0e+00]\n",
      " [1.4e+03 1.0e+00]\n",
      " [1.5e+03 1.0e+00]\n",
      " [1.6e+03 1.0e+00]\n",
      " [1.7e+03 1.0e+00]\n",
      " [1.8e+03 1.0e+00]\n",
      " [1.9e+03 1.0e+00]\n",
      " [2.0e+03 1.0e+00]]\n"
     ]
    }
   ],
   "source": [
    "A = np.vstack([X, np.ones(len(X))]).T\n",
    "print (A)"
   ]
  },
  {
   "cell_type": "code",
   "execution_count": 5,
   "id": "1f5db68a-381e-4401-b1b3-d92e03da4285",
   "metadata": {},
   "outputs": [],
   "source": [
    "m, c = np.linalg.lstsq(A, Y, rcond=None)[0]\n",
    "m, c\n",
    "\n",
    "regression = m*X + c"
   ]
  },
  {
   "cell_type": "code",
   "execution_count": 6,
   "id": "fa06da2c-c22c-4df0-bba1-2730b1f6a655",
   "metadata": {},
   "outputs": [
    {
     "data": {
      "image/png": "[encoded data removed]",
      "text/plain": [
       "<Figure size 432x288 with 1 Axes>"
      ]
     },
     "metadata": {
      "needs_background": "light"
     },
     "output_type": "display_data"
    }
   ],
   "source": [
    "#plot\n",
    "plt.plot(X, Y, 'o', label=y_label + ' data')\n",
    "plt.plot(X, regression, 'r', label='Fitted line')\n",
    "\n",
    "plt.xlabel(x_label)\n",
    "plt.ylabel(y_label + \" temperature in ◦C\")\n",
    "\n",
    "plt.legend()\n",
    "plt.show()\n",
    "\n"
   ]
  }
 ],
 "metadata": {
  "kernelspec": {
   "display_name": "Python 3",
   "language": "python",
   "name": "python3"
  },
  "language_info": {
   "codemirror_mode": {
    "name": "ipython",
    "version": 3
   },
   "file_extension": ".py",
   "mimetype": "text/x-python",
   "name": "python",
   "nbconvert_exporter": "python",
   "pygments_lexer": "ipython3",
   "version": "3.8.8"
  }
 },
 "nbformat": 4,
 "nbformat_minor": 5
}
