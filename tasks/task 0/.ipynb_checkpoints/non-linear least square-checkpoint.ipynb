{
 "cells": [
  {
   "cell_type": "markdown",
   "id": "cca5eee0-3272-45f9-9f03-f465897bd792",
   "metadata": {},
   "source": [
    "# Fit the model usen Least square\n",
    "\n",
    "### Import libraries"
   ]
  },
  {
   "cell_type": "code",
   "execution_count": 9,
   "id": "75393543-4455-4ca6-9734-091053b1ec6a",
   "metadata": {},
   "outputs": [],
   "source": [
    "import matplotlib.pyplot as plt\n",
    "from scipy.optimize import curve_fit\n",
    "import numpy as np\n",
    "import pandas as pd\n"
   ]
  },
  {
   "cell_type": "markdown",
   "id": "3844231c-a608-4639-b59b-529ea4597d7d",
   "metadata": {},
   "source": [
    "### Prepare the data\n",
    "\n",
    "Upload gradient data"
   ]
  },
  {
   "cell_type": "code",
   "execution_count": 10,
   "id": "cd51039d-2590-4669-b112-029bb6c1f644",
   "metadata": {},
   "outputs": [
    {
     "name": "stdout",
     "output_type": "stream",
     "text": [
      "(21, 13)\n",
      "   Time(s)  R1C1  R1C2  R1C3  R1C4  R2C1  R2C2  R2C3  R2C4  R3C1  R3C2  R3C3  \\\n",
      "0        0  17.3  16.4  18.1  18.2  14.4  14.6  15.8  18.8  17.0  15.9  15.6   \n",
      "1      100  17.1  16.1  17.9  18.1  14.3  14.5  15.7  18.5  16.9  15.8  15.5   \n",
      "2      200  16.9  16.2  17.4  17.8  14.2  14.4  15.4  18.1  16.7  15.6  15.2   \n",
      "3      300  16.6  15.8  17.3  17.4  14.1  14.2  15.2  17.8  16.3  15.3  15.0   \n",
      "4      400  16.3  15.6  17.1  17.1  13.9  14.0  14.9  17.1  16.1  15.1  14.8   \n",
      "\n",
      "   R3C4  \n",
      "0  16.5  \n",
      "1  16.4  \n",
      "2  16.0  \n",
      "3  15.7  \n",
      "4  15.6  \n"
     ]
    }
   ],
   "source": [
    "data = pd.read_csv('files/transient_exp_data.csv')\n",
    "print(data.shape)\n",
    "print(data.head())"
   ]
  },
  {
   "cell_type": "markdown",
   "id": "9e36f429-ce1b-4c5b-95a5-e63fa6b700da",
   "metadata": {},
   "source": [
    "### Fill variables\n",
    "- X refers to the independent values\n",
    "- Y refers to the dependent values"
   ]
  },
  {
   "cell_type": "code",
   "execution_count": 11,
   "id": "5da6df0a-35aa-459a-be57-713639d0691e",
   "metadata": {},
   "outputs": [],
   "source": [
    "x_label = 'Time(s)'\n",
    "y_label = 'mean'\n",
    "\n",
    "rack_data = data.copy()\n",
    "rack_data = rack_data.drop([x_label], axis=1)\n",
    "\n",
    "data['mean'] = rack_data.mean(numeric_only=True, axis=1)\n",
    "\n",
    "X = data[x_label].values\n",
    "Y = data[y_label].values"
   ]
  },
  {
   "cell_type": "markdown",
   "id": "d44f6cff-c588-4332-9738-e7e0e6954ae4",
   "metadata": {},
   "source": [
    "### Build the model\n",
    "Prepare the function to be fitted: a 3th grade polynomial function"
   ]
  },
  {
   "cell_type": "code",
   "execution_count": 12,
   "id": "62200d8c-356f-4414-abcc-b958bc76b945",
   "metadata": {},
   "outputs": [],
   "source": [
    "def func(x, c0, c1, c2, c3):\n",
    "    return c0 + c1*x + c2*x**2 + c3*x**3"
   ]
  },
  {
   "cell_type": "markdown",
   "id": "5d1d6494-ed21-4caf-a39d-dbaa0392ce67",
   "metadata": {},
   "source": [
    "Fit the model"
   ]
  },
  {
   "cell_type": "code",
   "execution_count": 13,
   "id": "a9d9174b-9589-44b4-beb8-f6b034c0171a",
   "metadata": {},
   "outputs": [
    {
     "name": "stdout",
     "output_type": "stream",
     "text": [
      "[ 1.66200389e+01 -2.48913697e-03 -1.97250238e-07  2.36858844e-10]\n"
     ]
    }
   ],
   "source": [
    "popt, pcov = curve_fit(func, X, Y)\n",
    "print(popt)\n"
   ]
  },
  {
   "cell_type": "markdown",
   "id": "e91ac411-7335-43de-bb40-4ad80e0b37e7",
   "metadata": {},
   "source": [
    "###  Evaluate the model"
   ]
  },
  {
   "cell_type": "code",
   "execution_count": 14,
   "id": "aee55f19-9045-4de7-8916-e30efbc26451",
   "metadata": {},
   "outputs": [
    {
     "name": "stdout",
     "output_type": "stream",
     "text": [
      "RMSE\n",
      "0.0368596326014008\n"
     ]
    }
   ],
   "source": [
    "# Calculating Root Mean Squares Error\n",
    "rmse = 0\n",
    "n = len(X)\n",
    "for i in range(n):\n",
    "    y_pred = func(X[i], *popt)\n",
    "    rmse += (Y[i] - y_pred) ** 2\n",
    "    \n",
    "rmse = np.sqrt(rmse/n)\n",
    "print(\"RMSE\")\n",
    "print(rmse)"
   ]
  },
  {
   "cell_type": "code",
   "execution_count": 15,
   "id": "63dec15d-9360-4c40-a526-11cbc39c16bf",
   "metadata": {},
   "outputs": [
    {
     "name": "stdout",
     "output_type": "stream",
     "text": [
      "R2 Score\n",
      "0.9991080314730543\n"
     ]
    }
   ],
   "source": [
    "# Mean X and Y\n",
    "mean_x = np.mean(X)\n",
    "mean_y = np.mean(Y)\n",
    "\n",
    "# Calculating R2 Score\n",
    "ss_tot = 0\n",
    "ss_res = 0\n",
    "for i in range(n):\n",
    "    y_pred = func(X[i], *popt)\n",
    "    ss_tot += (Y[i] - mean_y) ** 2\n",
    "    ss_res += (Y[i] - y_pred) ** 2\n",
    "r2 = 1 - (ss_res/ss_tot)\n",
    "print(\"R2 Score\")\n",
    "print(r2)"
   ]
  },
  {
   "cell_type": "code",
   "execution_count": 16,
   "id": "6595f01a-d067-4f74-9b94-f7837cf4bfc0",
   "metadata": {
    "tags": []
   },
   "outputs": [
    {
     "data": {
      "image/png": "[encoded data removed]",
      "text/plain": [
       "<Figure size 432x288 with 1 Axes>"
      ]
     },
     "metadata": {
      "needs_background": "light"
     },
     "output_type": "display_data"
    }
   ],
   "source": [
    "#plot\n",
    "plt.plot(X, Y, 'o', label=y_label + ' data')\n",
    "plt.plot(X, func(X, *popt), 'r', label='Fitted line')\n",
    "\n",
    "plt.xlabel(x_label + \"\\n RMSE: \" + str(rmse) + \"\\n R2 score: \" + str(r2))\n",
    "plt.ylabel(y_label + \" temperature in ◦C\")\n",
    "\n",
    "plt.legend()\n",
    "plt.show()"
   ]
  }
 ],
 "metadata": {
  "kernelspec": {
   "display_name": "Python 3",
   "language": "python",
   "name": "python3"
  },
  "language_info": {
   "codemirror_mode": {
    "name": "ipython",
    "version": 3
   },
   "file_extension": ".py",
   "mimetype": "text/x-python",
   "name": "python",
   "nbconvert_exporter": "python",
   "pygments_lexer": "ipython3",
   "version": "3.8.8"
  }
 },
 "nbformat": 4,
 "nbformat_minor": 5
}
