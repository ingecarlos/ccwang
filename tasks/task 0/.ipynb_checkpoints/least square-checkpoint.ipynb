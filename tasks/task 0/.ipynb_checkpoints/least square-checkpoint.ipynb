{
 "cells": [
  {
   "cell_type": "markdown",
   "id": "ddd92f84-eda9-4201-ba96-23d443ec3c0d",
   "metadata": {},
   "source": [
    "# Fit the model using Least Square method\n",
    "\n",
    "### Import libraries"
   ]
  },
  {
   "cell_type": "code",
   "execution_count": 27,
   "id": "a5f36758-5491-4aa8-8582-800fbba6f3b5",
   "metadata": {},
   "outputs": [],
   "source": [
    "import numpy as np\n",
    "import pandas as pd\n",
    "import matplotlib.pyplot as plt"
   ]
  },
  {
   "cell_type": "markdown",
   "id": "a14a2ce8-868e-453f-806f-7cbc5d8e1d1b",
   "metadata": {},
   "source": [
    "### Prepare the data\n",
    "\n",
    "Upload gradient data"
   ]
  },
  {
   "cell_type": "code",
   "execution_count": 28,
   "id": "e8ece930-ac69-4be3-b0d9-ee4836509afb",
   "metadata": {},
   "outputs": [
    {
     "name": "stdout",
     "output_type": "stream",
     "text": [
      "(21, 13)\n",
      "   Time(s)  R1C1  R1C2  R1C3  R1C4  R2C1  R2C2  R2C3  R2C4  R3C1  R3C2  R3C3  \\\n",
      "0        0  17.3  16.4  18.1  18.2  14.4  14.6  15.8  18.8  17.0  15.9  15.6   \n",
      "1      100  17.1  16.1  17.9  18.1  14.3  14.5  15.7  18.5  16.9  15.8  15.5   \n",
      "2      200  16.9  16.2  17.4  17.8  14.2  14.4  15.4  18.1  16.7  15.6  15.2   \n",
      "3      300  16.6  15.8  17.3  17.4  14.1  14.2  15.2  17.8  16.3  15.3  15.0   \n",
      "4      400  16.3  15.6  17.1  17.1  13.9  14.0  14.9  17.1  16.1  15.1  14.8   \n",
      "\n",
      "   R3C4  \n",
      "0  16.5  \n",
      "1  16.4  \n",
      "2  16.0  \n",
      "3  15.7  \n",
      "4  15.6  \n"
     ]
    }
   ],
   "source": [
    "data = pd.read_csv('files/transient_exp_data.csv')\n",
    "print(data.shape)\n",
    "print(data.head())"
   ]
  },
  {
   "cell_type": "markdown",
   "id": "7b21a8cc-86e4-4de7-a488-1a69c7f4aebf",
   "metadata": {},
   "source": [
    "### Fill variables\n",
    "- X refers to the independent values\n",
    "- Y refers to the dependent values"
   ]
  },
  {
   "cell_type": "code",
   "execution_count": 29,
   "id": "29452c39-ba56-4add-abc2-8f696a2c49a4",
   "metadata": {},
   "outputs": [],
   "source": [
    "x_label = 'Time(s)'\n",
    "y_label = 'mean'\n",
    "\n",
    "rack_data = data.copy()\n",
    "rack_data = rack_data.drop([x_label], axis=1)\n",
    "\n",
    "data['mean'] = rack_data.mean(numeric_only=True, axis=1)\n",
    "\n",
    "X = data[x_label].values\n",
    "Y = data[y_label].values"
   ]
  },
  {
   "cell_type": "markdown",
   "id": "544d8fed-f9ba-40a1-a849-ec8ab6c62c25",
   "metadata": {},
   "source": [
    "### Build the model"
   ]
  },
  {
   "cell_type": "markdown",
   "id": "268ee6f1-2442-4b24-aae8-fc0a2b5d4b24",
   "metadata": {},
   "source": [
    "Calculate m and C for:\n",
    "- Y = m*X + C"
   ]
  },
  {
   "cell_type": "code",
   "execution_count": 30,
   "id": "709cf02d-6ee1-4d76-ba43-763a825208c3",
   "metadata": {},
   "outputs": [
    {
     "data": {
      "text/plain": [
       "(-0.0020172077922077894, 16.375937950937942)"
      ]
     },
     "execution_count": 30,
     "metadata": {},
     "output_type": "execute_result"
    }
   ],
   "source": [
    "A = np.vstack([X, np.ones(len(X))]).T\n",
    "m, c = np.linalg.lstsq(A, Y, rcond=None)[0]\n",
    "m, c"
   ]
  },
  {
   "cell_type": "markdown",
   "id": "fbcd4084-d0b6-4b98-bc54-9960ed9a7a45",
   "metadata": {},
   "source": [
    "prepare the regression"
   ]
  },
  {
   "cell_type": "code",
   "execution_count": 31,
   "id": "1f5db68a-381e-4401-b1b3-d92e03da4285",
   "metadata": {},
   "outputs": [
    {
     "name": "stdout",
     "output_type": "stream",
     "text": [
      "y = -0.00202 * x + 16.37594\n"
     ]
    }
   ],
   "source": [
    "regression = m*X + c\n",
    "print('y = %.5f * x + %.5f' % (m, c))"
   ]
  },
  {
   "cell_type": "markdown",
   "id": "89f07679-3a5c-48b3-941d-2c6c67d0737d",
   "metadata": {},
   "source": [
    "###  Evaluate the model"
   ]
  },
  {
   "cell_type": "code",
   "execution_count": 32,
   "id": "7c001319-c053-4c36-8c2e-f6ad049de24b",
   "metadata": {},
   "outputs": [
    {
     "name": "stdout",
     "output_type": "stream",
     "text": [
      "RMSE\n",
      "0.17655319725148563\n"
     ]
    }
   ],
   "source": [
    "# Calculating Root Mean Squares Error\n",
    "rmse = 0\n",
    "n = len(X)\n",
    "for i in range(n):\n",
    "    y_pred = c + m * X[i]\n",
    "    rmse += (Y[i] - y_pred) ** 2\n",
    "    \n",
    "rmse = np.sqrt(rmse/n)\n",
    "print(\"RMSE\")\n",
    "print(rmse)\n"
   ]
  },
  {
   "cell_type": "code",
   "execution_count": 33,
   "id": "f0ffa534-e2b9-4033-a2cc-1dc31963a3fc",
   "metadata": {},
   "outputs": [
    {
     "name": "stdout",
     "output_type": "stream",
     "text": [
      "R2 Score\n",
      "0.9795356148943155\n"
     ]
    }
   ],
   "source": [
    "# Mean X and Y\n",
    "mean_x = np.mean(X)\n",
    "mean_y = np.mean(Y)\n",
    "\n",
    "# Calculating R2 Score\n",
    "ss_tot = 0\n",
    "ss_res = 0\n",
    "for i in range(n):\n",
    "    y_pred = c + m * X[i]\n",
    "    ss_tot += (Y[i] - mean_y) ** 2\n",
    "    ss_res += (Y[i] - y_pred) ** 2\n",
    "r2 = 1 - (ss_res/ss_tot)\n",
    "print(\"R2 Score\")\n",
    "print(r2)\n"
   ]
  },
  {
   "cell_type": "markdown",
   "id": "d2cc2855-149e-442d-b9a7-04a80981db51",
   "metadata": {},
   "source": [
    "### Plot the data and the model data"
   ]
  },
  {
   "cell_type": "code",
   "execution_count": 40,
   "id": "fa06da2c-c22c-4df0-bba1-2730b1f6a655",
   "metadata": {},
   "outputs": [
    {
     "data": {
      "image/png": "[encoded data removed]",
      "text/plain": [
       "<Figure size 432x288 with 1 Axes>"
      ]
     },
     "metadata": {
      "needs_background": "light"
     },
     "output_type": "display_data"
    }
   ],
   "source": [
    "\n",
    "plt.plot(X, Y, 'o', label=y_label + ' data')\n",
    "plt.plot(X, regression, 'r', label='Fitted line')\n",
    "\n",
    "plt.xlabel(x_label + \"\\n RMSE: \" + str(rmse) + \"\\n R2 score: \" + str(r2))\n",
    "plt.ylabel(y_label + \" temperature in ◦C\")\n",
    "\n",
    "\n",
    "plt.title(\"model Fitted with least square\")\n",
    "plt.suptitle(\"Mean temperature\")\n",
    "\n",
    "plt.legend()\n",
    "plt.show()"
   ]
  }
 ],
 "metadata": {
  "kernelspec": {
   "display_name": "Python 3",
   "language": "python",
   "name": "python3"
  },
  "language_info": {
   "codemirror_mode": {
    "name": "ipython",
    "version": 3
   },
   "file_extension": ".py",
   "mimetype": "text/x-python",
   "name": "python",
   "nbconvert_exporter": "python",
   "pygments_lexer": "ipython3",
   "version": "3.8.8"
  }
 },
 "nbformat": 4,
 "nbformat_minor": 5
}
