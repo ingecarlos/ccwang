{
 "cells": [
  {
   "cell_type": "markdown",
   "id": "ddd92f84-eda9-4201-ba96-23d443ec3c0d",
   "metadata": {},
   "source": [
    "# Fit the model usen Least square\n",
    "\n",
    "### Import libraries"
   ]
  },
  {
   "cell_type": "code",
   "execution_count": 9,
   "id": "a5f36758-5491-4aa8-8582-800fbba6f3b5",
   "metadata": {},
   "outputs": [],
   "source": [
    "import numpy as np\n",
    "import pandas as pd\n",
    "import matplotlib.pyplot as plt"
   ]
  },
  {
   "cell_type": "markdown",
   "id": "5c2ea4c4-017e-4e7d-82af-2c9ad163b78e",
   "metadata": {},
   "source": [
    "### Prepare the data\n",
    "\n",
    "Upload gradient data"
   ]
  },
  {
   "cell_type": "code",
   "execution_count": 10,
   "id": "e8ece930-ac69-4be3-b0d9-ee4836509afb",
   "metadata": {},
   "outputs": [
    {
     "name": "stdout",
     "output_type": "stream",
     "text": [
      "(21, 13)\n",
      "   Time(s)  R1C1  R1C2  R1C3  R1C4  R2C1  R2C2  R2C3  R2C4  R3C1  R3C2  R3C3  \\\n",
      "0        0  17.3  16.4  18.1  18.2  14.4  14.6  15.8  18.8  17.0  15.9  15.6   \n",
      "1      100  17.1  16.1  17.9  18.1  14.3  14.5  15.7  18.5  16.9  15.8  15.5   \n",
      "2      200  16.9  16.2  17.4  17.8  14.2  14.4  15.4  18.1  16.7  15.6  15.2   \n",
      "3      300  16.6  15.8  17.3  17.4  14.1  14.2  15.2  17.8  16.3  15.3  15.0   \n",
      "4      400  16.3  15.6  17.1  17.1  13.9  14.0  14.9  17.1  16.1  15.1  14.8   \n",
      "\n",
      "   R3C4  \n",
      "0  16.5  \n",
      "1  16.4  \n",
      "2  16.0  \n",
      "3  15.7  \n",
      "4  15.6  \n"
     ]
    }
   ],
   "source": [
    "data = pd.read_csv('files/transient_exp_data.csv')\n",
    "print(data.shape)\n",
    "print(data.head())"
   ]
  },
  {
   "cell_type": "markdown",
   "id": "7b21a8cc-86e4-4de7-a488-1a69c7f4aebf",
   "metadata": {},
   "source": [
    "### Fill variables\n",
    "- X refers to the independent values\n",
    "- Y refers to the dependent values"
   ]
  },
  {
   "cell_type": "code",
   "execution_count": 11,
   "id": "29452c39-ba56-4add-abc2-8f696a2c49a4",
   "metadata": {},
   "outputs": [],
   "source": [
    "x_label = 'Time(s)'\n",
    "y_label = 'mean'\n",
    "\n",
    "rack_data = data.copy()\n",
    "rack_data = rack_data.drop([x_label], axis=1)\n",
    "\n",
    "data['mean'] = rack_data.mean(numeric_only=True, axis=1)\n",
    "\n",
    "X = data[x_label].values\n",
    "Y = data[y_label].values"
   ]
  },
  {
   "cell_type": "markdown",
   "id": "61260e74-b27a-431f-96b2-34383b32a903",
   "metadata": {},
   "source": [
    "### Build the model\n",
    "Calculate coefficients for a 3th grade polynomial function"
   ]
  },
  {
   "cell_type": "code",
   "execution_count": 12,
   "id": "1f5db68a-381e-4401-b1b3-d92e03da4285",
   "metadata": {},
   "outputs": [],
   "source": [
    "coefficents = np.polyfit(X, Y, 3)"
   ]
  },
  {
   "cell_type": "markdown",
   "id": "bc2f305e-36df-4414-9c0a-e55831cc901b",
   "metadata": {},
   "source": [
    "Prepare the polynomial function"
   ]
  },
  {
   "cell_type": "code",
   "execution_count": 13,
   "id": "5c12c59a-fbc6-41f0-83e4-b1c06e3a3d41",
   "metadata": {},
   "outputs": [],
   "source": [
    "p = np.poly1d(coefficents)"
   ]
  },
  {
   "cell_type": "markdown",
   "id": "4e2ecb4e-6640-4744-a402-c5e40e3f11d2",
   "metadata": {},
   "source": [
    "###  Evaluate the model"
   ]
  },
  {
   "cell_type": "code",
   "execution_count": 14,
   "id": "a36db1eb-f8ed-4ea1-b679-fe075c749a11",
   "metadata": {},
   "outputs": [
    {
     "name": "stdout",
     "output_type": "stream",
     "text": [
      "RMSE\n",
      "0.0368596326014002\n"
     ]
    }
   ],
   "source": [
    "# Calculating Root Mean Squares Error\n",
    "rmse = 0\n",
    "n = len(X)\n",
    "for i in range(n):\n",
    "    y_pred = p(X[i])\n",
    "    rmse += (Y[i] - y_pred) ** 2\n",
    "    \n",
    "rmse = np.sqrt(rmse/n)\n",
    "print(\"RMSE\")\n",
    "print(rmse)"
   ]
  },
  {
   "cell_type": "code",
   "execution_count": 15,
   "id": "fb491f87-5b6e-407b-b3ce-2e654f0d85c2",
   "metadata": {},
   "outputs": [
    {
     "name": "stdout",
     "output_type": "stream",
     "text": [
      "R2 Score\n",
      "0.9991080314730543\n"
     ]
    }
   ],
   "source": [
    "# Mean X and Y\n",
    "mean_x = np.mean(X)\n",
    "mean_y = np.mean(Y)\n",
    "\n",
    "# Calculating R2 Score\n",
    "ss_tot = 0\n",
    "ss_res = 0\n",
    "for i in range(n):\n",
    "    y_pred = p(X[i])\n",
    "    ss_tot += (Y[i] - mean_y) ** 2\n",
    "    ss_res += (Y[i] - y_pred) ** 2\n",
    "r2 = 1 - (ss_res/ss_tot)\n",
    "print(\"R2 Score\")\n",
    "print(r2)"
   ]
  },
  {
   "cell_type": "code",
   "execution_count": 16,
   "id": "fa06da2c-c22c-4df0-bba1-2730b1f6a655",
   "metadata": {},
   "outputs": [
    {
     "data": {
      "image/png": "[encoded data removed]",
      "text/plain": [
       "<Figure size 432x288 with 1 Axes>"
      ]
     },
     "metadata": {
      "needs_background": "light"
     },
     "output_type": "display_data"
    }
   ],
   "source": [
    "#plot\n",
    "plt.plot(X, Y, 'o', label=y_label + ' data')\n",
    "plt.plot(X, p(X), 'r', label='Fitted line')\n",
    "\n",
    "plt.xlabel(x_label + \"\\n RMSE: \" + str(rmse) + \"\\n R2 score: \" + str(r2))\n",
    "plt.ylabel(y_label + \" temperature in ◦C\")\n",
    "\n",
    "plt.legend()\n",
    "plt.show()\n",
    "\n"
   ]
  }
 ],
 "metadata": {
  "kernelspec": {
   "display_name": "Python 3",
   "language": "python",
   "name": "python3"
  },
  "language_info": {
   "codemirror_mode": {
    "name": "ipython",
    "version": 3
   },
   "file_extension": ".py",
   "mimetype": "text/x-python",
   "name": "python",
   "nbconvert_exporter": "python",
   "pygments_lexer": "ipython3",
   "version": "3.8.8"
  }
 },
 "nbformat": 4,
 "nbformat_minor": 5
}
