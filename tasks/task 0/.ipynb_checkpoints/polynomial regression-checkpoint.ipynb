{
 "cells": [
  {
   "cell_type": "markdown",
   "id": "ddd92f84-eda9-4201-ba96-23d443ec3c0d",
   "metadata": {},
   "source": [
    "Import libraries"
   ]
  },
  {
   "cell_type": "code",
   "execution_count": 10,
   "id": "a5f36758-5491-4aa8-8582-800fbba6f3b5",
   "metadata": {},
   "outputs": [],
   "source": [
    "import numpy as np\n",
    "import pandas as pd\n",
    "import matplotlib.pyplot as plt"
   ]
  },
  {
   "cell_type": "markdown",
   "id": "5c2ea4c4-017e-4e7d-82af-2c9ad163b78e",
   "metadata": {},
   "source": [
    "Upload gradient data"
   ]
  },
  {
   "cell_type": "code",
   "execution_count": 11,
   "id": "e8ece930-ac69-4be3-b0d9-ee4836509afb",
   "metadata": {},
   "outputs": [],
   "source": [
    "data = pd.read_csv('files/transient_exp_data.csv')\n",
    "#print(data.head())"
   ]
  },
  {
   "cell_type": "markdown",
   "id": "7b21a8cc-86e4-4de7-a488-1a69c7f4aebf",
   "metadata": {},
   "source": [
    "# Asignar a variables\n",
    "X es la variable independiente\n",
    "\n",
    "Y es la variable dependiente"
   ]
  },
  {
   "cell_type": "code",
   "execution_count": 12,
   "id": "29452c39-ba56-4add-abc2-8f696a2c49a4",
   "metadata": {},
   "outputs": [],
   "source": [
    "#Row names\n",
    "\n",
    "x_label = 'Time(s)'\n",
    "y_label = 'R1C1'\n",
    "y_labels = data.columns[1:]\n",
    "\n",
    "X = data[x_label].values\n",
    "Y = data[y_label].values"
   ]
  },
  {
   "cell_type": "code",
   "execution_count": 13,
   "id": "1f5db68a-381e-4401-b1b3-d92e03da4285",
   "metadata": {},
   "outputs": [
    {
     "name": "stdout",
     "output_type": "stream",
     "text": [
      "[ 2.88930495e-10 -3.08676830e-07 -2.69929435e-03  1.73715415e+01]\n"
     ]
    }
   ],
   "source": [
    "coefficents = np.polyfit(X, Y, 3)\n",
    "p = np.poly1d(coefficents)\n",
    "\n",
    "\n",
    "print(coefficents)"
   ]
  },
  {
   "cell_type": "code",
   "execution_count": 15,
   "id": "fa06da2c-c22c-4df0-bba1-2730b1f6a655",
   "metadata": {},
   "outputs": [
    {
     "data": {
      "image/png": "[encoded data removed]",
      "text/plain": [
       "<Figure size 432x288 with 1 Axes>"
      ]
     },
     "metadata": {
      "needs_background": "light"
     },
     "output_type": "display_data"
    }
   ],
   "source": [
    "#plot\n",
    "plt.plot(X, Y, 'o', label=y_label + ' data')\n",
    "plt.plot(X, p(X), 'r', label='Fitted line')\n",
    "\n",
    "plt.xlabel(x_label)\n",
    "plt.ylabel(y_label + \" temperature in ◦C\")\n",
    "\n",
    "plt.legend()\n",
    "plt.show()\n",
    "\n"
   ]
  }
 ],
 "metadata": {
  "kernelspec": {
   "display_name": "Python 3",
   "language": "python",
   "name": "python3"
  },
  "language_info": {
   "codemirror_mode": {
    "name": "ipython",
    "version": 3
   },
   "file_extension": ".py",
   "mimetype": "text/x-python",
   "name": "python",
   "nbconvert_exporter": "python",
   "pygments_lexer": "ipython3",
   "version": "3.8.8"
  }
 },
 "nbformat": 4,
 "nbformat_minor": 5
}
